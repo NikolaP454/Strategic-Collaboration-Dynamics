{
 "cells": [
  {
   "cell_type": "markdown",
   "metadata": {},
   "source": [
    "---\n",
    "# Imports"
   ]
  },
  {
   "cell_type": "code",
   "execution_count": 21,
   "metadata": {},
   "outputs": [],
   "source": [
    "import numpy as np\n",
    "\n",
    "import matplotlib.pyplot as plt\n",
    "import seaborn as sns"
   ]
  },
  {
   "cell_type": "markdown",
   "metadata": {},
   "source": [
    "---\n",
    "# Data Reading"
   ]
  },
  {
   "cell_type": "code",
   "execution_count": 22,
   "metadata": {},
   "outputs": [],
   "source": [
    "coop = np.array([np.load(f'results_envelop/sim1_rr_coop_p{i}.npy') for i in range(1, 4)])\n",
    "exit = np.array([np.load(f'results_envelop/sim1_rr_exit_p{i}.npy') for i in range(1, 4)])\n",
    "looking = np.array([np.load(f'results_envelop/sim1_rr_looking_p{i}.npy') for i in range(1, 4)])"
   ]
  },
  {
   "cell_type": "markdown",
   "metadata": {},
   "source": [
    "---\n",
    "# Plotting"
   ]
  },
  {
   "cell_type": "code",
   "execution_count": 23,
   "metadata": {},
   "outputs": [],
   "source": [
    "COLORS = {\n",
    "    'coop' : '#FF7F0E',\n",
    "    'exit' : '#F44B4A',\n",
    "}"
   ]
  },
  {
   "cell_type": "code",
   "execution_count": null,
   "metadata": {},
   "outputs": [],
   "source": [
    "fig, ax = plt.subplots(3, 3, figsize=(16, 8))\n",
    "\n",
    "for i in range(3):\n",
    "    sns.lineplot(x=np.arange(0, looking.shape[1]), y=looking[i], ax=ax[0, i])\n",
    "    sns.lineplot(x=np.arange(0, exit.shape[1]), y=exit[i], ax=ax[1, i], color=COLORS['exit'])\n",
    "    sns.lineplot(x=np.arange(0, coop.shape[1]), y=coop[i], ax=ax[2, i], color=COLORS['coop'])\n",
    "    \n",
    "    \n",
    "for i in range(3):\n",
    "    for j in range(3):\n",
    "        ax[i, j].set_xlim(0, looking.shape[1])\n",
    "        ax[i, j].set_ylim(0, 1)\n",
    "        \n",
    "        ax[i, j].grid(dashes=(5, 5))\n",
    "        \n",
    "ax[0, 0].set_ylabel('Look Frequency')\n",
    "ax[1, 0].set_ylabel('Exit Frequency')\n",
    "ax[2, 0].set_ylabel('Cooperation Frequency')\n",
    "\n",
    "ax[0, 0].set_title('p = 0.1')\n",
    "ax[0, 1].set_title('p = 0.4')\n",
    "ax[0, 2].set_title('p = 0.8')\n",
    "\n",
    "ax[2, 0].set_xlabel('Iteration')\n",
    "ax[2, 1].set_xlabel('Iteration')\n",
    "ax[2, 2].set_xlabel('Iteration')\n",
    "\n",
    "plt.savefig('plots/envelop.pdf', bbox_inches='tight', dpi=300)"
   ]
  }
 ],
 "metadata": {
  "kernelspec": {
   "display_name": "base",
   "language": "python",
   "name": "python3"
  },
  "language_info": {
   "codemirror_mode": {
    "name": "ipython",
    "version": 3
   },
   "file_extension": ".py",
   "mimetype": "text/x-python",
   "name": "python",
   "nbconvert_exporter": "python",
   "pygments_lexer": "ipython3",
   "version": "3.10.9"
  }
 },
 "nbformat": 4,
 "nbformat_minor": 2
}
