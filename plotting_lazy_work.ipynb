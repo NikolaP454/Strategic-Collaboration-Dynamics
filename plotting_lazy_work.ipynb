{
 "cells": [
  {
   "cell_type": "markdown",
   "metadata": {},
   "source": [
    "---\n",
    "# Imports"
   ]
  },
  {
   "cell_type": "code",
   "execution_count": 16,
   "metadata": {},
   "outputs": [],
   "source": [
    "import numpy as np\n",
    "\n",
    "import matplotlib.pyplot as plt\n",
    "import seaborn as sns"
   ]
  },
  {
   "cell_type": "markdown",
   "metadata": {},
   "source": [
    "---\n",
    "# Constants"
   ]
  },
  {
   "cell_type": "code",
   "execution_count": 17,
   "metadata": {},
   "outputs": [],
   "source": [
    "ITH = 2\n",
    "\n",
    "TYPES = [\n",
    "    'public_based',\n",
    "    'relation_based',\n",
    "    'popularity_based'\n",
    "]\n",
    "\n",
    "TITLE_NAMES = {\n",
    "    'public_based': 'Public Based Opinion (PBO)',\n",
    "    'relation_based': 'Relation Based (RB)',\n",
    "    'popularity_based': 'Popularity Based Cooperation (PBC)'\n",
    "}"
   ]
  },
  {
   "cell_type": "markdown",
   "metadata": {},
   "source": [
    "---\n",
    "# Data Reading"
   ]
  },
  {
   "cell_type": "code",
   "execution_count": 18,
   "metadata": {},
   "outputs": [],
   "source": [
    "data = np.array([\n",
    "    np.load(f'results/saved_results_{TYPES[ITH]}.npy', allow_pickle=True),\n",
    "    np.load(f'results/saved_results_{TYPES[ITH]}_radical.npy', allow_pickle=True)\n",
    "])"
   ]
  },
  {
   "cell_type": "code",
   "execution_count": 19,
   "metadata": {},
   "outputs": [],
   "source": [
    "relation_strengths = data[:, :, 0]\n",
    "work_cnt = data[:, :, 1, 1:]\n",
    "lazy_cnt = data[:, :, 2, 1:]"
   ]
  },
  {
   "cell_type": "markdown",
   "metadata": {},
   "source": [
    "---\n",
    "# Plotting"
   ]
  },
  {
   "cell_type": "code",
   "execution_count": 21,
   "metadata": {},
   "outputs": [],
   "source": [
    "COLORS = sns.color_palette('bright', n_colors=5)"
   ]
  },
  {
   "cell_type": "code",
   "execution_count": null,
   "metadata": {},
   "outputs": [],
   "source": [
    "np.seterr(divide='ignore', invalid='ignore')\n",
    "fig, ax = plt.subplots(2, 2, figsize=(10, 6))\n",
    "MIN_RELATION_STRENGTH = np.min(relation_strengths)\n",
    "MAX_RELATION_STRENGTH = np.max(relation_strengths)\n",
    "\n",
    "MIN_PROB = np.min(work_cnt / (work_cnt + lazy_cnt))\n",
    "MAX_PROB = np.max(work_cnt / (work_cnt + lazy_cnt))\n",
    "\n",
    "for i, (relation_strength, work, lazy) in enumerate(zip(relation_strengths, work_cnt, lazy_cnt)):\n",
    "    for j, strength in enumerate(relation_strength):\n",
    "        sns.lineplot(x=range(11), y = strength, ax=ax[0, i], color=COLORS[j])\n",
    "        \n",
    "    for j, (work, lazy) in enumerate(zip(work, lazy)):\n",
    "        work_percentage = work / (work + lazy)\n",
    "        sns.lineplot(x=range(1, 11), y = work_percentage, ax=ax[1, i], color=COLORS[j])\n",
    "        \n",
    "    ax[0, i].set_title(f'{TITLE_NAMES[TYPES[ITH]]} {\"Extreme Env.\" if i == 1 else \"Normal Env.\"}')\n",
    "    ax[0, 0].set_ylabel('Relation Strength')\n",
    "    ax[1, 0].set_ylabel('Work Percentage')\n",
    "    \n",
    "    ax[0, i].grid(dashes=(5, 5))\n",
    "    ax[1, i].grid(dashes=(5, 5))\n",
    "    \n",
    "    ax[0, i].set_xlim(0, 10)\n",
    "    ax[1, i].set_xlim(1, 10)\n",
    "    \n",
    "    ax[0, i].set_ylim(MIN_RELATION_STRENGTH, MAX_RELATION_STRENGTH)\n",
    "    \n",
    "    spacing = np.linspace(MIN_RELATION_STRENGTH, MAX_RELATION_STRENGTH, 5)\n",
    "    spacing = np.round(spacing, 3)\n",
    "    ax[0, i].set_yticks(spacing)\n",
    "    \n",
    "    ax[1, i].set_ylim(MIN_PROB, MAX_PROB)\n",
    "    \n",
    "    spacing = np.linspace(MIN_PROB, MAX_PROB, 5)\n",
    "    spacing = np.round(spacing, 3)\n",
    "    \n",
    "    ax[1, i].set_yticks(spacing)\n",
    "    \n",
    "plt.savefig(f'plots/{TYPES[ITH]}_results.pdf', dpi=300, bbox_inches='tight')"
   ]
  }
 ],
 "metadata": {
  "kernelspec": {
   "display_name": "base",
   "language": "python",
   "name": "python3"
  },
  "language_info": {
   "codemirror_mode": {
    "name": "ipython",
    "version": 3
   },
   "file_extension": ".py",
   "mimetype": "text/x-python",
   "name": "python",
   "nbconvert_exporter": "python",
   "pygments_lexer": "ipython3",
   "version": "3.10.9"
  }
 },
 "nbformat": 4,
 "nbformat_minor": 2
}
